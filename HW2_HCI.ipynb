{
  "nbformat": 4,
  "nbformat_minor": 0,
  "metadata": {
    "colab": {
      "name": "HW2 HCI",
      "provenance": [],
      "collapsed_sections": [],
      "mount_file_id": "1cLTF_pc0mu1koZ773wq7D6QOQk9n4Vct",
      "authorship_tag": "ABX9TyOdgXGuqx+dmqgAWa1cGkGX",
      "include_colab_link": true
    },
    "kernelspec": {
      "name": "python3",
      "display_name": "Python 3"
    }
  },
  "cells": [
    {
      "cell_type": "markdown",
      "metadata": {
        "id": "view-in-github",
        "colab_type": "text"
      },
      "source": [
        "<a href=\"https://colab.research.google.com/github/cjskalla/airbnb_proj/blob/master/HW2_HCI.ipynb\" target=\"_parent\"><img src=\"https://colab.research.google.com/assets/colab-badge.svg\" alt=\"Open In Colab\"/></a>"
      ]
    },
    {
      "cell_type": "markdown",
      "metadata": {
        "id": "6XbL6fiNUL-a",
        "colab_type": "text"
      },
      "source": [
        "Performing Simple Arithmetic\n"
      ]
    },
    {
      "cell_type": "code",
      "metadata": {
        "id": "FM00j4NJTPUU",
        "colab_type": "code",
        "colab": {
          "base_uri": "https://localhost:8080/",
          "height": 34
        },
        "outputId": "87dc0194-4d3c-42b7-e112-38fbeaa964e4"
      },
      "source": [
        "2+2"
      ],
      "execution_count": null,
      "outputs": [
        {
          "output_type": "execute_result",
          "data": {
            "text/plain": [
              "4"
            ]
          },
          "metadata": {
            "tags": []
          },
          "execution_count": 27
        }
      ]
    },
    {
      "cell_type": "markdown",
      "metadata": {
        "id": "Brxs93JZV4IL",
        "colab_type": "text"
      },
      "source": [
        "Running Python code to import data\n"
      ]
    },
    {
      "cell_type": "code",
      "metadata": {
        "id": "p1qMqKFRhKco",
        "colab_type": "code",
        "colab": {}
      },
      "source": [
        "import pandas as pd\n",
        "mydata = pd.read_csv(\"/content/drive/My Drive/Colab Notebooks/HCI/HW2/rb_stats_and_projections.csv\")"
      ],
      "execution_count": null,
      "outputs": []
    },
    {
      "cell_type": "code",
      "metadata": {
        "id": "ITCiw5DHdjgB",
        "colab_type": "code",
        "colab": {
          "base_uri": "https://localhost:8080/",
          "height": 300
        },
        "outputId": "338ab644-1673-4f20-8076-0baa75645931"
      },
      "source": [
        "import matplotlib.pyplot as plt\n",
        "graph_data = mydata.rename(columns={'2019 FPTS': 'POINTS19', '2020 FPTS': 'POINTS20'})\n",
        "graph_data.head()\n",
        "graph_data.plot.scatter(x='POINTS19', y='POINTS20')"
      ],
      "execution_count": null,
      "outputs": [
        {
          "output_type": "execute_result",
          "data": {
            "text/plain": [
              "<matplotlib.axes._subplots.AxesSubplot at 0x7f2168b9bef0>"
            ]
          },
          "metadata": {
            "tags": []
          },
          "execution_count": 37
        },
        {
          "output_type": "display_data",
          "data": {
            "image/png": "[encoded data removed]",
            "text/plain": [
              "<Figure size 432x288 with 1 Axes>"
            ]
          },
          "metadata": {
            "tags": [],
            "needs_background": "light"
          }
        }
      ]
    }
  ]
}